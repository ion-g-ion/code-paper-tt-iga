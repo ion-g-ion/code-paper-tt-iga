{
 "cells": [
  {
   "cell_type": "code",
   "execution_count": null,
   "metadata": {},
   "outputs": [],
   "source": [
    "import torch as tn\n",
    "import numpy as np\n",
    "try:\n",
    "    import torchtt as tntt \n",
    "except:\n",
    "    print('Installing torchTT...')\n",
    "    %pip install git+https://github.com/ion-g-ion/torchTT\n",
    "    import torchtt as tntt\n",
    "try:\n",
    "    import tt_iga\n",
    "except:\n",
    "    print('Installing TT-IGA...')\n",
    "    %pip install git+https://github.com/ion-g-ion/code-paper-tt-iga\n",
    "    import tt_iga\n",
    "import matplotlib.pyplot as plt\n",
    "\n",
    "# set float64 as the default type\n",
    "tn.set_default_dtype(tn.float64)"
   ]
  },
  {
   "cell_type": "code",
   "execution_count": null,
   "metadata": {},
   "outputs": [],
   "source": [
    "xc = lambda u,v,w: u*tn.sqrt(1-v**2/2-w**2/2+v**2*w**2/3)\n",
    "yc = lambda u,v,w: v*tn.sqrt(1-u**2/2-w**2/2+u**2*w**2/3)\n",
    "zc = lambda u,v,w: w*tn.sqrt(1-u**2/2-v**2/2+u**2*v**2/3)\n",
    "\n",
    "xparam = lambda t :xc(t[:,0]*2-1,t[:,1]*2-1,t[:,2]*2-1)\n",
    "yparam = lambda t :yc(t[:,0]*2-1,t[:,1]*2-1,t[:,2]*2-1)\n",
    "zparam = lambda t :zc(t[:,0]*2-1,t[:,1]*2-1,t[:,2]*2-1)"
   ]
  },
  {
   "cell_type": "code",
   "execution_count": null,
   "metadata": {},
   "outputs": [],
   "source": [
    "basis1 = tt_iga.BSplineBasis(np.linspace(0,1,63),2)\n",
    "basis2 = tt_iga.BSplineBasis(np.linspace(0,1,63),2)\n",
    "basis3 = tt_iga.BSplineBasis(np.linspace(0,1,63),2)\n",
    "Basis = [basis1, basis2, basis3]\n",
    "\n",
    "N = [basis1.N, basis2.N, basis3.N]"
   ]
  },
  {
   "cell_type": "code",
   "execution_count": null,
   "metadata": {},
   "outputs": [],
   "source": [
    "geom = tt_iga.Geometry(Basis)\n",
    "geom.interpolate([xparam, yparam, zparam], eps=1e-10)\n",
    "print(geom.Xs)"
   ]
  },
  {
   "cell_type": "code",
   "execution_count": null,
   "metadata": {},
   "outputs": [],
   "source": [
    "fig = geom.plot_domain([],[(0,1),(0,1),(0.0,1)],surface_color='blue', wireframe = True,alpha=0.1,n=64)\n",
    "fig.gca().set_xlabel(r'$x_1$')\n",
    "fig.gca().set_ylabel(r'$x_2$')\n",
    "fig.gca().set_zlabel(r'$x_3$')\n",
    "fig.gca().view_init(25, -60)\n",
    "fig.gca().set_box_aspect(aspect = (1,1,1))\n",
    "plt.xticks([-0.5,0,0.5])\n",
    "plt.yticks([-0.5,0,0.5])\n",
    "plt.show()"
   ]
  },
  {
   "cell_type": "code",
   "execution_count": null,
   "metadata": {},
   "outputs": [],
   "source": [
    "Mass_tt = geom.mass_interp(eps=1e-11)\n",
    "Stiff_tt = geom.stiffness_interp( func=None, func_reference = None, qtt = False, verb=True, eps = 1e-10)\n",
    "print(Mass_tt)\n",
    "print(Stiff_tt)"
   ]
  }
 ],
 "metadata": {
  "interpreter": {
   "hash": "0bb18d59442045223691660a1f8e0079e69ab2417ab62beafa5ba9155c0a563f"
  },
  "kernelspec": {
   "display_name": "Python 3.6.13 64-bit ('pytorch2': conda)",
   "language": "python",
   "name": "python3"
  },
  "language_info": {
   "codemirror_mode": {
    "name": "ipython",
    "version": 3
   },
   "file_extension": ".py",
   "mimetype": "text/x-python",
   "name": "python",
   "nbconvert_exporter": "python",
   "pygments_lexer": "ipython3",
   "version": "3.6.13"
  },
  "orig_nbformat": 4
 },
 "nbformat": 4,
 "nbformat_minor": 2
}
