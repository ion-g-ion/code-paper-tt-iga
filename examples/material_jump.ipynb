{
 "cells": [
  {
   "cell_type": "code",
   "execution_count": null,
   "metadata": {},
   "outputs": [],
   "source": [
    "import torch as tn\n",
    "import numpy as np\n",
    "import datetime\n",
    "import matplotlib.pyplot as plt\n",
    "import matplotlib.colors\n",
    "try:\n",
    "    import torchtt as tntt\n",
    "except:\n",
    "    print('Installing torchTT...')\n",
    "    %pip install git+https://github.com/ion-g-ion/torchtt\n",
    "    import torchtt as tntt\n",
    "try:\n",
    "    import tt_iga\n",
    "except:\n",
    "    print('Installing TT-IGA...')\n",
    "    %pip install git+https://github.com/ion-g-ion/code-paper-tt-iga\n",
    "    import tt_iga\n",
    "\n",
    "tn.set_default_dtype(tn.float64)"
   ]
  },
  {
   "cell_type": "markdown",
   "metadata": {},
   "source": [
    "Parametrization of the domain:"
   ]
  },
  {
   "cell_type": "code",
   "execution_count": null,
   "metadata": {},
   "outputs": [],
   "source": [
    "# square to circle transformation\n",
    "xc = lambda u,v: u*tn.sqrt(1-v**2/2)\n",
    "yc = lambda u,v: v*tn.sqrt(1-u**2/2)\n",
    "# scale [0,1] to an inteval [a,b]\n",
    "line = lambda t,a,b: t*(b-a)+a\n",
    "# aux function needed for mapping along the length of the cylinder\n",
    "def scaling(z,theta1,theta2):\n",
    "    a = 0.3\n",
    "    b = 0.7\n",
    "    s = (z<a)*line(z/a,0,a+theta1)\n",
    "    s+= tn.logical_and(z>=a,z<=b)*line((z-a)/(b-a),a+theta1,b+theta2)\n",
    "    s+= tn.logical_and(z>b,z<=1)*line((z-b)/(1-b),b+theta2,1)\n",
    "    return s\n",
    "\n",
    "# create the components of the parametrization\n",
    "angle_mult = 1.0\n",
    "xparam = lambda t : xc(t[:,0]*2-1,t[:,1]*2-1)\n",
    "yparam = lambda t : yc(t[:,0]*2-1,t[:,1]*2-1)\n",
    "zparam = lambda t : scaling(t[:,2],t[:,6],t[:,5]+xparam(t)*angle_mult*t[:,4]+yparam(t)*0*t[:,4])\n",
    "# create the material coeffiecient (defined on the reference domain)\n",
    "sigma_ref = lambda x:  0.0*x[:,2]+(5.0+x[:,3]*5.0)*tn.logical_and(x[:,0]>=0.0,x[:,0]<0.5)*tn.logical_and(x[:,2]>0.3,x[:,2]<0.7)+1"
   ]
  },
  {
   "cell_type": "markdown",
   "metadata": {},
   "source": [
    "Define the B-spline bases and the parameter space bases. \n",
    "For the parameter space, Gauss-Legendre nodes are used."
   ]
  },
  {
   "cell_type": "code",
   "execution_count": null,
   "metadata": {},
   "outputs": [],
   "source": [
    "deg = 2\n",
    "Ns = np.array(3*[64])-deg+1\n",
    "baza1 = tt_iga.bspline.BSplineBasis(np.concatenate((np.linspace(0,0.5,Ns[0]//2),np.linspace(0.5,1,Ns[0]//2))),deg)\n",
    "baza2 = tt_iga.bspline.BSplineBasis(np.linspace(0,1,Ns[1]),deg)\n",
    "baza3 = tt_iga.bspline.BSplineBasis(np.concatenate((np.linspace(0,0.3,Ns[2]//3),np.linspace(0.3,0.7,Ns[2]//3),np.linspace(0.7,1,Ns[2]//3))),deg)\n",
    "\n",
    "Basis = [baza1,baza2,baza3]\n",
    "N = [baza1.N,baza2.N,baza3.N]\n",
    "\n",
    "nl = 12\n",
    "Basis_param = [tt_iga.lagrange.LagrangeLeg(nl,[-0.05,0.05])]*4"
   ]
  },
  {
   "cell_type": "markdown",
   "metadata": {},
   "source": [
    "Instantiate the geometry object."
   ]
  },
  {
   "cell_type": "code",
   "execution_count": null,
   "metadata": {},
   "outputs": [],
   "source": [
    "geom = tt_iga.Geometry(Basis+Basis_param)\n",
    "geom.interpolate([xparam, yparam, zparam])"
   ]
  },
  {
   "cell_type": "markdown",
   "metadata": {},
   "source": [
    "Plot the domain for 2 parameters.$"
   ]
  },
  {
   "cell_type": "code",
   "execution_count": null,
   "metadata": {},
   "outputs": [],
   "source": [
    "fig = geom.plot_domain([tn.tensor([0.05]),tn.tensor([-0.05]),tn.tensor([0.05]),tn.tensor([0.05])],[(0,1),(0,1),(0.0,1)],surface_color='blue', wireframe = False,alpha=0.1)\n",
    "geom.plot_domain([tn.tensor([0.05]),tn.tensor([-0.05]),tn.tensor([0.05]),tn.tensor([0.05])],[(0.0,0.5),(0.0,1),(0.3,0.7)],fig = fig,surface_color='green',wireframe = False)\n",
    "fig.gca().zaxis.set_rotate_label(False)\n",
    "fig.gca().set_xlabel(r'$x_1$', fontsize=14)\n",
    "fig.gca().set_ylabel(r'$x_2$', fontsize=14)\n",
    "fig.gca().set_zlabel(r'$x_3$', fontsize=14)\n",
    "fig.gca().set_xticks([-1, 0, 1])\n",
    "fig.gca().set_yticks([-1, 0, 1])\n",
    "fig.gca().set_zticks([0, 0.5, 1])\n",
    "fig.gca().view_init(15, -60)\n",
    "fig.gca().tick_params(axis='both', labelsize=14)\n",
    "# plt.savefig('./data/cylinder_material1.pdf')\n",
    "\n",
    "fig = geom.plot_domain([tn.tensor([0.05]),tn.tensor([0.05]),tn.tensor([0.05]),tn.tensor([0.05])],[(0,1),(0,1),(0.0,1)],surface_color='blue', wireframe = False,alpha=0.1)\n",
    "geom.plot_domain([tn.tensor([0.05]),tn.tensor([0.05]),tn.tensor([0.05]),tn.tensor([0.05])],[(0.0,0.5),(0.0,1),(0.3,0.7)],fig = fig,surface_color='green',wireframe = False)\n",
    "fig.gca().zaxis.set_rotate_label(False)\n",
    "fig.gca().set_xlabel(r'$x_1$', fontsize=14)\n",
    "fig.gca().set_ylabel(r'$x_2$', fontsize=14)\n",
    "fig.gca().set_zlabel(r'$x_3$', fontsize=14)\n",
    "fig.gca().set_xticks([-1, 0, 1])\n",
    "fig.gca().set_yticks([-1, 0, 1])\n",
    "fig.gca().set_zticks([0, 0.5, 1])\n",
    "fig.gca().view_init(15, -60)\n",
    "fig.gca().tick_params(axis='both', labelsize=14)\n",
    "# plt.savefig('./data/cylinder_material2.pdf')"
   ]
  },
  {
   "cell_type": "markdown",
   "metadata": {},
   "source": [
    "Compute mass and stiffness matrices in TT."
   ]
  },
  {
   "cell_type": "code",
   "execution_count": null,
   "metadata": {},
   "outputs": [],
   "source": [
    "tme = datetime.datetime.now() \n",
    "Mass_tt = geom.mass_interp(eps=1e-11)\n",
    "tme = datetime.datetime.now() -tme\n",
    "print('Time mass matrix ',tme.total_seconds())\n",
    "\n",
    "tme = datetime.datetime.now() \n",
    "Stt = geom.stiffness_interp( func=None, func_reference = sigma_ref, qtt = False, verb=True)\n",
    "tme = datetime.datetime.now() -tme\n",
    "print('Time stiffness matrix ',tme.total_seconds())"
   ]
  },
  {
   "cell_type": "markdown",
   "metadata": {},
   "source": [
    "Get the boundary/interior projection operators."
   ]
  },
  {
   "cell_type": "code",
   "execution_count": null,
   "metadata": {},
   "outputs": [],
   "source": [
    "Pin_tt,Pbd_tt = tt_iga.projectors.get_projectors(N,[[1,1],[1,1],[0,0]])\n",
    "# Pbd_tt = (1/N[0]) * Pbd_tt\n",
    "\n",
    "Pin_tt = Pin_tt ** tntt.eye([nl]*4)\n",
    "Pbd_tt = Pbd_tt ** tntt.eye([nl]*4)"
   ]
  },
  {
   "cell_type": "markdown",
   "metadata": {},
   "source": [
    "Compute the excitation on the bottom port in TT format. \n",
    "The tensor is extended using Kronecker product since the excitation does not change with the parameters.\n",
    "The boundary projectpor is applied to let only the desired dofs nonzero."
   ]
  },
  {
   "cell_type": "code",
   "execution_count": null,
   "metadata": {},
   "outputs": [],
   "source": [
    "U0 = 10\n",
    "tmp = tn.zeros(N, dtype = tn.float64)\n",
    "tmp[:,:,0] = U0 \n",
    "\n",
    "g_tt = Pbd_tt @ (tntt.TT(tmp) ** tntt.ones([nl]*4))\n",
    "f_tt = tntt.zeros(Stt.N)\n",
    "\n",
    "M_tt = Pin_tt@Stt@Pin_tt + Pbd_tt\n",
    "rhs_tt = Pin_tt @ (Mass_tt @ f_tt - Stt@Pbd_tt@g_tt).round(1e-12) + g_tt\n",
    "M_tt = M_tt.round(1e-9)"
   ]
  },
  {
   "cell_type": "markdown",
   "metadata": {},
   "source": [
    "Solve the system in TT."
   ]
  },
  {
   "cell_type": "code",
   "execution_count": null,
   "metadata": {},
   "outputs": [],
   "source": [
    "eps_solver = 1e-6\n",
    "cuda = False\n",
    "tme_amen = datetime.datetime.now() \n",
    "if cuda and tn.cuda.is_available():\n",
    "    print('Solving in TT (GPU)...')\n",
    "    dofs_tt = tntt.solvers.amen_solve(M_tt.cuda(), rhs_tt.cuda(), x0 = tntt.ones(rhs_tt.N).cuda(), eps = eps_solver, nswp=40, kickrank=4).cpu()\n",
    "else:\n",
    "    print('Solving in TT (CPU)...')\n",
    "    dofs_tt = tntt.solvers.amen_solve(M_tt, rhs_tt, x0 = tntt.ones(rhs_tt.N), eps = eps_solver, nswp=40, kickrank=4)\n",
    "tme_amen = (datetime.datetime.now() -tme_amen).total_seconds() \n",
    "print('Time system solve in TT ',tme_amen)"
   ]
  },
  {
   "cell_type": "markdown",
   "metadata": {},
   "source": [
    "Plot slices of the solution in 2d and 3d."
   ]
  },
  {
   "cell_type": "code",
   "execution_count": null,
   "metadata": {},
   "outputs": [],
   "source": [
    "fspace = tt_iga.Function(Basis+Basis_param)\n",
    "fspace.dofs = dofs_tt\n",
    "\n",
    "fval = fspace([tn.linspace(0,1,128),tn.tensor([0.5]),tn.linspace(0,1,128),tn.tensor([0.05]),tn.tensor([0.05]),tn.tensor([0.05]),tn.tensor([0.05])])\n",
    "x,y,z = geom([tn.linspace(0,1,128),tn.tensor([0.5]),tn.linspace(0,1,128),tn.tensor([0.05]),tn.tensor([0.05]),tn.tensor([0.05]),tn.tensor([0.05])])\n",
    "\n",
    "plt.figure()\n",
    "plt.contour(x.full().numpy().squeeze(),z.full().numpy().squeeze(),fval.full().numpy().squeeze(), levels = 128)\n",
    "plt.colorbar()\n",
    "\n",
    "plt.figure()\n",
    "plt.contourf(x.full().numpy().squeeze(),z.full().numpy().squeeze(),fval.full().numpy().squeeze(), levels = 128)\n",
    "plt.colorbar()\n",
    "\n",
    "from matplotlib import cm\n",
    "fig = geom.plot_domain([tn.tensor([0.05])]*4,[(0,1),(0,1),(0.0,1)],surface_color=None, wireframe = False,frame_color='k')\n",
    "geom.plot_domain([tn.tensor([0.05])]*4,[(0.0,0.5),(0.0,1),(0.3,0.7)],fig = fig,surface_color=None,wireframe = False,frame_color='k')\n",
    "\n",
    "ax = fig.gca()\n",
    "C = fval.full().numpy().squeeze()\n",
    "norm = matplotlib.colors.Normalize(vmin=C.min(),vmax=C.max())\n",
    "C = plt.cm.jet(norm(C))\n",
    "C[:,:,-1] = 1\n",
    "ax.plot_surface(x.full().numpy().squeeze(),y.full().numpy().squeeze(),z.full().numpy().squeeze(),facecolors = C, antialiased=True,rcount=256,ccount=256,alpha=0.1)\n",
    "\n",
    "fig.gca().set_xlabel(r'$x_1$')\n",
    "fig.gca().set_ylabel(r'$x_2$')\n",
    "fig.gca().set_zlabel(r'$x_3$')"
   ]
  }
 ],
 "metadata": {
  "interpreter": {
   "hash": "df6fc3a9b7a9c6f4b0308ab6eb361a4cabbf6b5db181383d07014ff4304e5cb3"
  },
  "kernelspec": {
   "display_name": "Python 3.9.7 ('pytorch')",
   "language": "python",
   "name": "python3"
  },
  "language_info": {
   "codemirror_mode": {
    "name": "ipython",
    "version": 3
   },
   "file_extension": ".py",
   "mimetype": "text/x-python",
   "name": "python",
   "nbconvert_exporter": "python",
   "pygments_lexer": "ipython3",
   "version": "3.9.7"
  },
  "orig_nbformat": 4
 },
 "nbformat": 4,
 "nbformat_minor": 2
}
